{
 "metadata": {
  "name": "",
  "signature": "sha256:c8c07ee4410423155ec0f4190c4c2cdb9f1353925c516a556ec36f4bc31555fd"
 },
 "nbformat": 3,
 "nbformat_minor": 0,
 "worksheets": [
  {
   "cells": [
    {
     "cell_type": "code",
     "collapsed": false,
     "input": [
      "import pandas as pd\n",
      "import numpy as np\n",
      "import statsmodels.api as sm\n",
      "\n",
      "drought_fire_data = pd.DataFrame.from_csv('regression_data_largefireornot.csv', header=False) \n",
      "\n",
      "drought_fire_data.rename(columns={'LargeFire=1': 'LargeFire'}, inplace=True)\n",
      "drought_fire_data.head()"
     ],
     "language": "python",
     "metadata": {},
     "outputs": [
      {
       "html": [
        "<div style=\"max-height:1000px;max-width:1500px;overflow:auto;\">\n",
        "<table border=\"1\" class=\"dataframe\">\n",
        "  <thead>\n",
        "    <tr style=\"text-align: right;\">\n",
        "      <th></th>\n",
        "      <th>PDSI</th>\n",
        "      <th>Acres</th>\n",
        "      <th>LargeFire</th>\n",
        "    </tr>\n",
        "    <tr>\n",
        "      <th>Index</th>\n",
        "      <th></th>\n",
        "      <th></th>\n",
        "      <th></th>\n",
        "    </tr>\n",
        "  </thead>\n",
        "  <tbody>\n",
        "    <tr>\n",
        "      <th>0</th>\n",
        "      <td> 6.24</td>\n",
        "      <td>  203.6</td>\n",
        "      <td> 1</td>\n",
        "    </tr>\n",
        "    <tr>\n",
        "      <th>1</th>\n",
        "      <td> 6.24</td>\n",
        "      <td> 2000.4</td>\n",
        "      <td> 1</td>\n",
        "    </tr>\n",
        "    <tr>\n",
        "      <th>2</th>\n",
        "      <td> 0.85</td>\n",
        "      <td>  120.0</td>\n",
        "      <td> 1</td>\n",
        "    </tr>\n",
        "    <tr>\n",
        "      <th>3</th>\n",
        "      <td> 6.49</td>\n",
        "      <td>  133.6</td>\n",
        "      <td> 1</td>\n",
        "    </tr>\n",
        "    <tr>\n",
        "      <th>4</th>\n",
        "      <td> 6.49</td>\n",
        "      <td>  202.4</td>\n",
        "      <td> 1</td>\n",
        "    </tr>\n",
        "  </tbody>\n",
        "</table>\n",
        "<p>5 rows \u00d7 3 columns</p>\n",
        "</div>"
       ],
       "metadata": {},
       "output_type": "pyout",
       "prompt_number": 19,
       "text": [
        "       PDSI   Acres  LargeFire\n",
        "Index                         \n",
        "0      6.24   203.6          1\n",
        "1      6.24  2000.4          1\n",
        "2      0.85   120.0          1\n",
        "3      6.49   133.6          1\n",
        "4      6.49   202.4          1\n",
        "\n",
        "[5 rows x 3 columns]"
       ]
      }
     ],
     "prompt_number": 19
    },
    {
     "cell_type": "code",
     "collapsed": false,
     "input": [
      "#drought_fire_data.set_index(range(len(drought_fire_data)))\n",
      "\n",
      "#From the Open Data project, Tiffany had used this approach\n",
      "#production_data = all_data[['production_renewables','production_natural_gas','production_coal','production_nuclear','production_other']]\n",
      "#model1 = sm.OLS(all_data[\"price_all_sectors\"], sm.add_constant(production_data)).fit()\n",
      "#model1.summary()\n",
      "\n",
      "\n",
      "y = drought_fire_data.LargeFire  # response\n",
      "X = drought_fire_data.PDSI  # predictor\n",
      "X = sm.add_constant(X)  # Adds a constant term to the predictor\n",
      "#X.head()\n",
      "est = sm.OLS(y, X)\n",
      "est = est.fit()\n",
      "est.summary()\n",
      "\n",
      "\n",
      "#model1 = sm.OLS(drought_fire_data[\"Acres\"], drought_fire_data[\"Acres\"]\n",
      "#model1.summary()\n",
      "\n",
      "#model1.summary()"
     ],
     "language": "python",
     "metadata": {},
     "outputs": [
      {
       "html": [
        "<table class=\"simpletable\">\n",
        "<caption>OLS Regression Results</caption>\n",
        "<tr>\n",
        "  <th>Dep. Variable:</th>        <td>LargeFire</td>    <th>  R-squared:         </th>  <td>    -inf</td> \n",
        "</tr>\n",
        "<tr>\n",
        "  <th>Model:</th>                   <td>OLS</td>       <th>  Adj. R-squared:    </th>  <td>    -inf</td> \n",
        "</tr>\n",
        "<tr>\n",
        "  <th>Method:</th>             <td>Least Squares</td>  <th>  F-statistic:       </th>  <td>  -3041.</td> \n",
        "</tr>\n",
        "<tr>\n",
        "  <th>Date:</th>             <td>Sun, 11 May 2014</td> <th>  Prob (F-statistic):</th>   <td>  1.00</td>  \n",
        "</tr>\n",
        "<tr>\n",
        "  <th>Time:</th>                 <td>16:02:46</td>     <th>  Log-Likelihood:    </th> <td>1.0205e+05</td>\n",
        "</tr>\n",
        "<tr>\n",
        "  <th>No. Observations:</th>      <td>  3043</td>      <th>  AIC:               </th> <td>-2.041e+05</td>\n",
        "</tr>\n",
        "<tr>\n",
        "  <th>Df Residuals:</th>          <td>  3041</td>      <th>  BIC:               </th> <td>-2.041e+05</td>\n",
        "</tr>\n",
        "<tr>\n",
        "  <th>Df Model:</th>              <td>     1</td>      <th>                     </th>      <td> </td>    \n",
        "</tr>\n",
        "</table>\n",
        "<table class=\"simpletable\">\n",
        "<tr>\n",
        "    <td></td>       <th>coef</th>     <th>std err</th>      <th>t</th>      <th>P>|t|</th> <th>[95.0% Conf. Int.]</th> \n",
        "</tr>\n",
        "<tr>\n",
        "  <th>const</th> <td>    1.0000</td> <td>  1.2e-17</td> <td> 8.34e+16</td> <td> 0.000</td> <td>    1.000     1.000</td>\n",
        "</tr>\n",
        "<tr>\n",
        "  <th>PDSI</th>  <td>-2.068e-16</td> <td> 3.79e-18</td> <td>  -54.568</td> <td> 0.000</td> <td>-2.14e-16 -1.99e-16</td>\n",
        "</tr>\n",
        "</table>\n",
        "<table class=\"simpletable\">\n",
        "<tr>\n",
        "  <th>Omnibus:</th>       <td>168.168</td> <th>  Durbin-Watson:     </th> <td>   0.231</td>\n",
        "</tr>\n",
        "<tr>\n",
        "  <th>Prob(Omnibus):</th> <td> 0.000</td>  <th>  Jarque-Bera (JB):  </th> <td> 184.873</td>\n",
        "</tr>\n",
        "<tr>\n",
        "  <th>Skew:</th>          <td> 0.581</td>  <th>  Prob(JB):          </th> <td>7.17e-41</td>\n",
        "</tr>\n",
        "<tr>\n",
        "  <th>Kurtosis:</th>      <td> 2.674</td>  <th>  Cond. No.          </th> <td>    3.17</td>\n",
        "</tr>\n",
        "</table>"
       ],
       "metadata": {},
       "output_type": "pyout",
       "prompt_number": 20,
       "text": [
        "<class 'statsmodels.iolib.summary.Summary'>\n",
        "\"\"\"\n",
        "                            OLS Regression Results                            \n",
        "==============================================================================\n",
        "Dep. Variable:              LargeFire   R-squared:                        -inf\n",
        "Model:                            OLS   Adj. R-squared:                   -inf\n",
        "Method:                 Least Squares   F-statistic:                    -3041.\n",
        "Date:                Sun, 11 May 2014   Prob (F-statistic):               1.00\n",
        "Time:                        16:02:46   Log-Likelihood:             1.0205e+05\n",
        "No. Observations:                3043   AIC:                        -2.041e+05\n",
        "Df Residuals:                    3041   BIC:                        -2.041e+05\n",
        "Df Model:                           1                                         \n",
        "==============================================================================\n",
        "                 coef    std err          t      P>|t|      [95.0% Conf. Int.]\n",
        "------------------------------------------------------------------------------\n",
        "const          1.0000    1.2e-17   8.34e+16      0.000         1.000     1.000\n",
        "PDSI       -2.068e-16   3.79e-18    -54.568      0.000     -2.14e-16 -1.99e-16\n",
        "==============================================================================\n",
        "Omnibus:                      168.168   Durbin-Watson:                   0.231\n",
        "Prob(Omnibus):                  0.000   Jarque-Bera (JB):              184.873\n",
        "Skew:                           0.581   Prob(JB):                     7.17e-41\n",
        "Kurtosis:                       2.674   Cond. No.                         3.17\n",
        "==============================================================================\n",
        "\"\"\""
       ]
      }
     ],
     "prompt_number": 20
    },
    {
     "cell_type": "code",
     "collapsed": false,
     "input": [
      "corr_df = drought_fire_data.corr()\n",
      "print corr_df"
     ],
     "language": "python",
     "metadata": {},
     "outputs": [
      {
       "output_type": "stream",
       "stream": "stdout",
       "text": [
        "              PDSI    Acres  LargeFire\n",
        "PDSI       1.00000 -0.09925        NaN\n",
        "Acres     -0.09925  1.00000        NaN\n",
        "LargeFire      NaN      NaN        NaN\n",
        "\n",
        "[3 rows x 3 columns]\n"
       ]
      }
     ],
     "prompt_number": 22
    },
    {
     "cell_type": "code",
     "collapsed": false,
     "input": [
      "est.params"
     ],
     "language": "python",
     "metadata": {},
     "outputs": [
      {
       "metadata": {},
       "output_type": "pyout",
       "prompt_number": 11,
       "text": [
        "const   -3.373302e-11\n",
        "Acres    1.000000e+00\n",
        "dtype: float64"
       ]
      }
     ],
     "prompt_number": 11
    },
    {
     "cell_type": "code",
     "collapsed": true,
     "input": [
      "a = drought_fire_data['PDSI']\n",
      "b = drought_fire_data['Acres']\n",
      "regression = np.polyfit(a, b, 1)\n",
      "print regression\n",
      "\n",
      "#So for every "
     ],
     "language": "python",
     "metadata": {},
     "outputs": [
      {
       "output_type": "stream",
       "stream": "stdout",
       "text": [
        "[-41.14349532  93.58533787]\n"
       ]
      }
     ],
     "prompt_number": 9
    }
   ],
   "metadata": {}
  }
 ]
}